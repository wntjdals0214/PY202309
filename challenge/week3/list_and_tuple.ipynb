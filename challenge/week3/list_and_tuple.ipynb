{
 "cells": [
  {
   "cell_type": "code",
   "execution_count": 8,
   "id": "e01d2867",
   "metadata": {},
   "outputs": [
    {
     "name": "stdout",
     "output_type": "stream",
     "text": [
      "Enter 1st number:50\n",
      "Enter 2nd number:40\n",
      "Enter 3rd number:90\n",
      "Enter 4th number:10\n",
      "Enter 5th number:30\n",
      "max: 90\n",
      "min: 10\n",
      "average: 44.0\n"
     ]
    }
   ],
   "source": [
    "# 빈 리스트 생성\n",
    "num_list=[]\n",
    "# 리스트에 숫자 5개 추가\n",
    "num1= int(input(\"Enter 1st number:\"))\n",
    "num_list.append(num1)\n",
    "num2= int(input(\"Enter 2nd number:\"))\n",
    "num_list.append(num2)\n",
    "num3= int(input(\"Enter 3rd number:\"))\n",
    "num_list.append(num3)\n",
    "num4= int(input(\"Enter 4th number:\"))\n",
    "num_list.append(num4)\n",
    "num5= int(input(\"Enter 5th number:\"))\n",
    "num_list.append(num5)\n",
    "# 리스트 정렬\n",
    "num_list.sort()\n",
    "# 평균 구하기\n",
    "average=(num1+num2+num3+num4+num5)/5\n",
    "#최대, 최소 값 찾기\n",
    "max=num_list[4]\n",
    "min=num_list[0]\n",
    "# 값 출력\n",
    "print(\"max:\", max)\n",
    "print(\"min:\", min)\n",
    "print(\"average:\", average)\n"
   ]
  },
  {
   "cell_type": "code",
   "execution_count": null,
   "id": "b8b92753",
   "metadata": {},
   "outputs": [],
   "source": [
    "# 가수 리스트 생성\n",
    "singer_list=[\"BTS\", \"Black Pink\"]\n",
    "# 리스트에 입력받은 가수 추가\n",
    "new_singer=str(input(\"What is your favorite single?\"))\n",
    "singer_list.append(new_singer)\n",
    "# 리스트 정렬\n",
    "singer_list.sort()\n",
    "# 리스트 출력\n",
    "print(singer_list)"
   ]
  }
 ],
 "metadata": {
  "kernelspec": {
   "display_name": "Python 3 (ipykernel)",
   "language": "python",
   "name": "python3"
  },
  "language_info": {
   "codemirror_mode": {
    "name": "ipython",
    "version": 3
   },
   "file_extension": ".py",
   "mimetype": "text/x-python",
   "name": "python",
   "nbconvert_exporter": "python",
   "pygments_lexer": "ipython3",
   "version": "3.9.7"
  }
 },
 "nbformat": 4,
 "nbformat_minor": 5
}

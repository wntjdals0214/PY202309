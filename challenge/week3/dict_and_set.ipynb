{
 "cells": [
  {
   "cell_type": "code",
   "execution_count": 8,
   "id": "9792ae62",
   "metadata": {},
   "outputs": [
    {
     "name": "stdout",
     "output_type": "stream",
     "text": [
      "Enter English number ranging from 1 to 5: one\n",
      "one is 일\n"
     ]
    }
   ],
   "source": [
    "#Dictionary 생성\n",
    "num_dict = {\"one\":\"일\", \"two\":\"이\", \"three\":\"삼\", \"four\":\"사\", \"five\":\"오\"}\n",
    "#영어단어 입력받기\n",
    "num= str(input(\"Enter English number ranging from 1 to 5: \"))\n",
    "Korean_num = num_dict[num] #영어단어에 해당하는 한글을 변수에 저장\n",
    "print(num, \"is\", Korean_num) #출력"
   ]
  },
  {
   "cell_type": "code",
   "execution_count": 16,
   "id": "f28772af",
   "metadata": {},
   "outputs": [
    {
     "name": "stdout",
     "output_type": "stream",
     "text": [
      "Name: Moving  / average:  4.0\n",
      "Name: Mask Girl  / average:  3.6666666666666665\n",
      "Name: Oppenheimer  / average:  3.3333333333333335\n"
     ]
    }
   ],
   "source": [
    "#Dictionary 생성\n",
    "Movie_dict={}\n",
    "Movie_dict[\"Moving\"]={\"misoo\":4, \"Kwon\":3, \"Soo\":5}\n",
    "Movie_dict[\"Mask Girl\"]={\"misoo\":3, \"Kwon\":4, \"Soo\":4}\n",
    "Movie_dict[\"Oppenheimer\"]={\"misoo\":3, \"Kwon\":3, \"Soo\":4}\n",
    "#리스트 추출\n",
    "name_list =list(Movie_dict.keys())\n",
    "\n",
    "score=list(Movie_dict[name_list[0]].values())\n",
    "print(\"Name:\", name_list[0], \" / average: \", sum(score)/len(score))# 영화 이름과 평균 점수 출력\n",
    "\n",
    "score=list(Movie_dict[name_list[1]].values())\n",
    "print(\"Name:\", name_list[1], \" / average: \", sum(score)/len(score))# 영화 이름과 평균 점수 출력\n",
    "\n",
    "score=list(Movie_dict[name_list[2]].values())\n",
    "print(\"Name:\", name_list[2], \" / average: \", sum(score)/len(score))# 영화 이름과 평균 점수 출력\n"
   ]
  },
  {
   "cell_type": "code",
   "execution_count": 21,
   "id": "fd56be28",
   "metadata": {},
   "outputs": [
    {
     "name": "stdout",
     "output_type": "stream",
     "text": [
      "Enter user1's 1st friend name: asd\n",
      "Enter user1's 2nd friend name: asd\n",
      "Enter user1's 3rd friend name: sggfs\n",
      "Enter user2's 1st friend name: wefrasef\n",
      "Enter user2's 2nd friend name: awraw\n",
      "Enter user2's 3rd friend name: awe\n",
      "All friend:  sggfs asd awraw wefrasef awe\n"
     ]
    }
   ],
   "source": [
    "user1_friend=set()\n",
    "user2_friend=set()\n",
    "#set에 이름 추가\n",
    "user1_friend.add(input(\"Enter user1's 1st friend name: \"))\n",
    "user1_friend.add(input(\"Enter user1's 2nd friend name: \"))\n",
    "user1_friend.add(input(\"Enter user1's 3rd friend name: \"))\n",
    "\n",
    "user2_friend.add(input(\"Enter user2's 1st friend name: \"))\n",
    "user2_friend.add(input(\"Enter user2's 2nd friend name: \"))\n",
    "user2_friend.add(input(\"Enter user2's 3rd friend name: \"))\n",
    "#출력\n",
    "print(\"All friend: \", *(user1_friend.union(user2_friend)))"
   ]
  },
  {
   "cell_type": "code",
   "execution_count": null,
   "id": "fdab80bb",
   "metadata": {},
   "outputs": [],
   "source": []
  }
 ],
 "metadata": {
  "kernelspec": {
   "display_name": "Python 3 (ipykernel)",
   "language": "python",
   "name": "python3"
  },
  "language_info": {
   "codemirror_mode": {
    "name": "ipython",
    "version": 3
   },
   "file_extension": ".py",
   "mimetype": "text/x-python",
   "name": "python",
   "nbconvert_exporter": "python",
   "pygments_lexer": "ipython3",
   "version": "3.9.7"
  }
 },
 "nbformat": 4,
 "nbformat_minor": 5
}

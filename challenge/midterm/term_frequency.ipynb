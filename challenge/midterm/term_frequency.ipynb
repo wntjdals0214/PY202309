{
 "cells": [
  {
   "cell_type": "code",
   "execution_count": 1,
   "id": "ccd0b243",
   "metadata": {},
   "outputs": [
    {
     "name": "stdout",
     "output_type": "stream",
     "text": [
      "-----TF dictionary-----\n",
      "{'of': 2, 'that': 1, 'glitters': 1, 'fox': 1, 'difficulty': 1, 'a': 3, 'jumps': 1, 'in': 1, 'to': 1, 'not': 1, 'opportunity': 1, 'brown': 1, 'books': 1, 'journey': 1, 'the': 3, 'single': 1, 'lies': 1, 'middle': 1, 'with': 1, 'dog': 1, 'step': 1, 'begins': 1, 'is': 1, 'miles': 1, 'gold': 1, 'lazy': 1, 'she': 1, 'likes': 1, 'all': 1, 'over': 1, 'thousand': 1, 'read': 1, 'quick': 1}\n",
      "-----Top-3 TF terms-----\n",
      "1 a 3\n",
      "2 the 3\n",
      "3 of 2\n"
     ]
    }
   ],
   "source": [
    "import operator\n",
    "sentences = [\n",
    "    \"The quick brown fox jumps over the lazy dog.\",\n",
    "    \"A journey of a thousand miles begins with a single step.\",\n",
    "    \"All that glitters is not gold.\",    \n",
    "    \"In the middle of difficulty lies opportunity.\",\n",
    "    \"She likes to read books.\"\n",
    "]\n",
    "\n",
    "total_terms = set()\n",
    "# TODO 1: 토큰 집합 만들기\n",
    "tokens = [] # 빈 리스트 생성\n",
    "for sentence in sentences:\n",
    "    token = sentence.replace(\".\",\" \").strip().split(\" \") # '.'을 공백으로 교체, 가장 앞 뒤 공백 제거, 공백 기준으로 토큰 쪼개기\n",
    "    for i in token:\n",
    "        tokens.append(i.lower()) # 만들어둔 리스트에 소문자로 바꿔 추가\n",
    "total_terms = set(tokens) # 집합으로 만들어 중복 토큰 제거\n",
    "\n",
    "term_frequency_dict = {} # 토큰 별 단어 빈도 저장할 딕셔너리\n",
    "# TODO 2: 토큰 별 단어 빈도를 딕셔너리에 저장\n",
    "token_list = list(total_terms) # 집합을 리스트로 변환\n",
    "for token in (token_list):\n",
    "    count = 0\n",
    "    for word in tokens:\n",
    "        if token == word:\n",
    "            count += 1 # token_list에서 토큰을 하나씩 tokens 리스트에 있는 토큰들과 비교해가며 중복 개수 카운트\n",
    "    term_frequency_dict[token] = count # 만들어둔 딕셔너리에 저장\n",
    "\n",
    "# 토큰 빈도 출력\n",
    "print(\"-----TF dictionary-----\")\n",
    "print(term_frequency_dict)\n",
    "\n",
    "print(\"-----Top-3 TF terms-----\")\n",
    "# TODO 3: Top-3 토큰 빈도를 갖는 단어의 순위, 단어, 빈도 출력 코드 작성\n",
    "sorted_frequency_tokens = sorted(term_frequency_dict.items(), key = operator.itemgetter(1), reverse = True)\n",
    "# 딕셔너리 value값 내림차순 정렬\n",
    "for i in range(0,3):\n",
    "    sorted_frequency = list(sorted_frequency_tokens[i]) # 튜플을 리스트화 시켜서 연산가능하게 \n",
    "    print(i+1, sorted_frequency[0], sorted_frequency[1])\n",
    "    # 가장 많이 나타난 단어와 빈도 3개 출력"
   ]
  },
  {
   "cell_type": "code",
   "execution_count": null,
   "id": "b57aa995",
   "metadata": {},
   "outputs": [],
   "source": []
  }
 ],
 "metadata": {
  "kernelspec": {
   "display_name": "Python 3 (ipykernel)",
   "language": "python",
   "name": "python3"
  },
  "language_info": {
   "codemirror_mode": {
    "name": "ipython",
    "version": 3
   },
   "file_extension": ".py",
   "mimetype": "text/x-python",
   "name": "python",
   "nbconvert_exporter": "python",
   "pygments_lexer": "ipython3",
   "version": "3.11.4"
  }
 },
 "nbformat": 4,
 "nbformat_minor": 5
}

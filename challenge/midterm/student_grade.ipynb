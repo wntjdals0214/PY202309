{
 "cells": [
  {
   "cell_type": "code",
   "execution_count": 6,
   "id": "d5414bce",
   "metadata": {},
   "outputs": [
    {
     "name": "stdout",
     "output_type": "stream",
     "text": [
      "-----학생들의 평균 점수-----\n",
      "실바의 평균 점수는 73.666667입니다.\n",
      "산토스의 평균 점수는 86.933333입니다.\n",
      "맥그리거의 평균 점수는 85.700000입니다.\n",
      "알도의 평균 점수는 85.433333입니다.\n",
      "로우지의 평균 점수는 83.100000입니다.\n",
      "누네스의 평균 점수는 85.933333입니다.\n"
     ]
    }
   ],
   "source": [
    "lines = open(\"student.csv\",\"r\", encoding=\"utf8\").readlines()\n",
    "del(lines[0]) # 필요없는 줄 삭제\n",
    "student_info = {} # 학생 정보를 저장할 딕셔너리\n",
    "# TODO 1: 학생 정보를 딕셔너리에 저장\n",
    "def loadData(lines):\n",
    "    for line in lines:\n",
    "        tokens=line.strip().replace(\",\",\" \").split(\" \") # 파일의 각 라인을 리스트화\n",
    "        token = tokens[0] \n",
    "        student_info[token] = tokens[1],tokens[2],tokens[3] # 리스트의 첫번째 아이템을 딕셔너리의 key로 나머지를 value로 저장\n",
    "    return student_info\n",
    "loadData(lines)        \n",
    "            \n",
    "\n",
    "# TODO 2: 학생 별 평균 점수를 계산, 출력\n",
    "def getAverage(student,student_info):    \n",
    "    scores = list(student_info[student]) # 학생 정보 딕셔너리의 value값을 리스트화(점수들)\n",
    "    sum_score = 0\n",
    "    for score in scores:\n",
    "        a = float(score) #아이템의 자료형을 정수로 변환\n",
    "        sum_score += a\n",
    "    average_score = float(sum_score / 3) # 평균점수 계산\n",
    "    return average_score\n",
    "    \n",
    "students = list(student_info.keys()) # 학생 정보 딕셔너리의 key값을 리스트화(힉생이름)\n",
    "print(\"-----학생들의 평균 점수-----\")\n",
    "line_list = []\n",
    "for student in students:\n",
    "    average_score = getAverage(student,student_info)\n",
    "    line = (\"%s의 평균 점수는 %f입니다.\"%(student, average_score))\n",
    "    print(line)\n",
    "    line_list.append(line) # 필요한 내용 출력과 동시에 리스트에 저장\n",
    "# TODO 3: 평균 점수를 코드 실행결과와 동일하게 파일로 출력\n",
    "fp = open(\"average.txt\", \"w\", encoding = \"utf8\")\n",
    "for line in line_list:\n",
    "    fp.write(line+\"\\n\") # 리스트에 저장한 출력 내용을 한줄씩 파일에 작성\n",
    "fp.close()"
   ]
  },
  {
   "cell_type": "code",
   "execution_count": null,
   "id": "6badb35a",
   "metadata": {},
   "outputs": [],
   "source": []
  },
  {
   "cell_type": "code",
   "execution_count": null,
   "id": "53c98e6d",
   "metadata": {},
   "outputs": [],
   "source": []
  },
  {
   "cell_type": "code",
   "execution_count": null,
   "id": "53d364b0",
   "metadata": {},
   "outputs": [],
   "source": []
  }
 ],
 "metadata": {
  "kernelspec": {
   "display_name": "Python 3 (ipykernel)",
   "language": "python",
   "name": "python3"
  },
  "language_info": {
   "codemirror_mode": {
    "name": "ipython",
    "version": 3
   },
   "file_extension": ".py",
   "mimetype": "text/x-python",
   "name": "python",
   "nbconvert_exporter": "python",
   "pygments_lexer": "ipython3",
   "version": "3.10.9"
  }
 },
 "nbformat": 4,
 "nbformat_minor": 5
}

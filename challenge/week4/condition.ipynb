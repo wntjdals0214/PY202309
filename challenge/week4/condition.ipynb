{
 "cells": [
  {
   "cell_type": "code",
   "execution_count": 8,
   "id": "abd924d7",
   "metadata": {},
   "outputs": [
    {
     "name": "stdout",
     "output_type": "stream",
     "text": [
      "Is it raining? (Y / N)y\n",
      "Is it windy? (Y / N)y\n",
      "It is too windy for an umbrella.\n"
     ]
    }
   ],
   "source": [
    "whether=str(input(\"Is it raining? (Y / N)\")) #날씨 입력\n",
    "wind=str(input(\"Is it windy? (Y / N)\")) #바람 입력\n",
    "if whether == \"y\": #날씨가 y일 경우\n",
    "    if wind == \"y\": #날씨가 y이면서 바람이 y일 경우\n",
    "        print(\"It is too windy for an umbrella.\")\n",
    "    elif wind == \"n\": #날씨가 y이면서 바람이 n일 경우\n",
    "        print(\"Take an umbrella.\")\n",
    "    else: #바람에 잘못 입력했을 때\n",
    "        print(\"Incorrect Input.\")\n",
    "elif whether == \"n\": #날씨가 n일 경우\n",
    "    if wind == \"y\": #날씨가 n이면서 바람이 y일 경우\n",
    "        print(\"Please take a coat,\")\n",
    "    elif wind == \"n\": #날씨가 n이면서 바람이 n일 경우\n",
    "        print(\"Have a nice day.\")\n",
    "    else: #바람에 잘못 입력했을 때\n",
    "        print(\"Incorrect Input.\") \n",
    "else: #날씨에 잘못 입력했을 때\n",
    "    print(\"Incorrect Input.\") \n",
    "    "
   ]
  },
  {
   "cell_type": "code",
   "execution_count": null,
   "id": "5864f954",
   "metadata": {},
   "outputs": [],
   "source": []
  },
  {
   "cell_type": "code",
   "execution_count": null,
   "id": "2749f280",
   "metadata": {},
   "outputs": [],
   "source": []
  }
 ],
 "metadata": {
  "kernelspec": {
   "display_name": "Python 3 (ipykernel)",
   "language": "python",
   "name": "python3"
  },
  "language_info": {
   "codemirror_mode": {
    "name": "ipython",
    "version": 3
   },
   "file_extension": ".py",
   "mimetype": "text/x-python",
   "name": "python",
   "nbconvert_exporter": "python",
   "pygments_lexer": "ipython3",
   "version": "3.9.7"
  }
 },
 "nbformat": 4,
 "nbformat_minor": 5
}

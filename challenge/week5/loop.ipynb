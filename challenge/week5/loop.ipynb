{
 "cells": [
  {
   "cell_type": "code",
   "execution_count": 1,
   "id": "abb52ad0",
   "metadata": {},
   "outputs": [
    {
     "name": "stdout",
     "output_type": "stream",
     "text": [
      "#     2    ##     3    ##     4    ##     5    ##     6    ##     7    ##     8    ##     9    #\n",
      " 2 *  1 =  2 3 *  1 =  3 4 *  1 =  4 5 *  1 =  5 6 *  1 =  6 7 *  1 =  7 8 *  1 =  8 9 *  1 =  9\n",
      " 2 *  2 =  4 3 *  2 =  6 4 *  2 =  8 5 *  2 = 10 6 *  2 = 12 7 *  2 = 14 8 *  2 = 16 9 *  2 = 18\n",
      " 2 *  3 =  6 3 *  3 =  9 4 *  3 = 12 5 *  3 = 15 6 *  3 = 18 7 *  3 = 21 8 *  3 = 24 9 *  3 = 27\n",
      " 2 *  4 =  8 3 *  4 = 12 4 *  4 = 16 5 *  4 = 20 6 *  4 = 24 7 *  4 = 28 8 *  4 = 32 9 *  4 = 36\n",
      " 2 *  5 = 10 3 *  5 = 15 4 *  5 = 20 5 *  5 = 25 6 *  5 = 30 7 *  5 = 35 8 *  5 = 40 9 *  5 = 45\n",
      " 2 *  6 = 12 3 *  6 = 18 4 *  6 = 24 5 *  6 = 30 6 *  6 = 36 7 *  6 = 42 8 *  6 = 48 9 *  6 = 54\n",
      " 2 *  7 = 14 3 *  7 = 21 4 *  7 = 28 5 *  7 = 35 6 *  7 = 42 7 *  7 = 49 8 *  7 = 56 9 *  7 = 63\n",
      " 2 *  8 = 16 3 *  8 = 24 4 *  8 = 32 5 *  8 = 40 6 *  8 = 48 7 *  8 = 56 8 *  8 = 64 9 *  8 = 72\n",
      " 2 *  9 = 18 3 *  9 = 27 4 *  9 = 36 5 *  9 = 45 6 *  9 = 54 7 *  9 = 63 8 *  9 = 72 9 *  9 = 81\n"
     ]
    }
   ],
   "source": [
    "i, k, guguLine = 2, 2, \"\"\n",
    "\n",
    "while (i<10):\n",
    "    guguLine = guguLine + (\"#     %d    #\"%i)\n",
    "    i=i+1 #2부터 9단까지\n",
    "    \n",
    "print(guguLine) #단수 출력\n",
    "i=1\n",
    "while (i<10):\n",
    "    guguLine = \"\"\n",
    "    while (k<10):\n",
    "        guguLine = guguLine + str(\"%2d * %2d = %2d\"%(k, i, k*i))\n",
    "        k=k+1 #단수 계산\n",
    "    print(guguLine) #단수 출력\n",
    "    i=i+1 #단수 1 증가\n",
    "    k=2 #k값 초기화로 *2부터 다시 시작"
   ]
  },
  {
   "cell_type": "code",
   "execution_count": null,
   "id": "efc35b46",
   "metadata": {},
   "outputs": [],
   "source": []
  }
 ],
 "metadata": {
  "kernelspec": {
   "display_name": "Python 3 (ipykernel)",
   "language": "python",
   "name": "python3"
  },
  "language_info": {
   "codemirror_mode": {
    "name": "ipython",
    "version": 3
   },
   "file_extension": ".py",
   "mimetype": "text/x-python",
   "name": "python",
   "nbconvert_exporter": "python",
   "pygments_lexer": "ipython3",
   "version": "3.9.7"
  }
 },
 "nbformat": 4,
 "nbformat_minor": 5
}

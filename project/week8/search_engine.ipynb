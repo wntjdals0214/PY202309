{
 "cells": [
  {
   "cell_type": "code",
   "execution_count": 8,
   "id": "453dace9",
   "metadata": {},
   "outputs": [
    {
     "name": "stdout",
     "output_type": "stream",
     "text": [
      "영어 쿼리를 입력하세요.Hello My name is Sungmin Joo\n",
      "rank\tIndex\tscore\tsentence\n",
      "1\t679\t0.42857142857142855\tMy name is Mike.\n",
      "2\t526\t0.25\tBob is my brother.\n",
      "3\t538\t0.25\tMy hobby is traveling.\n",
      "4\t453\t0.2222222222222222\tMy mother is sketching them.\n",
      "5\t241\t0.2\tMy father is running with So-ra.\n",
      "6\t336\t0.2\tMy family is at the park.\n",
      "7\t212\t0.18181818181818182\tMy sister Betty is waiting for me.\n",
      "8\t505\t0.16666666666666666\tMy little sister Annie is five years old.\n",
      "9\t610\t0.14285714285714285\tI would raise my voice and yell, \"LUNCH IS READY!\"\n",
      "10\t190\t0.125\tIt is Sunday.\n"
     ]
    }
   ],
   "source": [
    "import operator\n",
    "\n",
    "# 입력 받은 sentence를 띄어쓰기 기준으로 리스트 생성\n",
    "def preprocess(sentence):\n",
    "    preprocessed_sentence = sentence.strip().split(\" \")\n",
    "    return preprocessed_sentence\n",
    "\n",
    "# 파일을 열어 문장들을 하나씩 file_tokens_pairs 리스트에 저장\n",
    "def indexing(file_name):\n",
    "    file_tokens_pairs = []\n",
    "    lines = open(file_name, \"r\", encoding=\"utf8\").readlines()\n",
    "    for line in lines:\n",
    "        tokens = preprocess(line)\n",
    "        file_tokens_pairs.append(tokens)\n",
    "    return file_tokens_pairs\n",
    "\n",
    "# 앞서 만든 두 리스트의 유사성 비교\n",
    "def calc_similarity(preprocessed_query, preprocessed_sentences):\n",
    "    score_dict = {}\n",
    "    for i in range(len(preprocessed_sentences)):        \n",
    "        #  대소문자 구분 없는 토큰 셋 만들기\n",
    "        sentence = preprocessed_sentences[i]\n",
    "        query_str = ' '.join(preprocessed_query).lower()\n",
    "        sentence_str = ' '.join(sentence).lower() # 문장 전부 소문자로\n",
    "        preprocessed_query = set(preprocess(query_str))\n",
    "        preprocessed_sentence = preprocess(sentence_str)                         \n",
    "        file_token_set = set(preprocessed_sentence)\n",
    "        all_tokens = preprocessed_query | file_token_set\n",
    "        same_tokens = preprocessed_query & file_token_set\n",
    "        similarity = len(same_tokens) / len(all_tokens)\n",
    "        score_dict[i] = similarity\n",
    "    return score_dict\n",
    "\n",
    "# 파일 이름 받고 인덱싱\n",
    "file_name =\"C:\\\\Users\\\\AI\\\\Desktop\\\\jhe-koen-dev.en\"\n",
    "file_tokens_pairs = indexing(file_name) # 함수 실행\n",
    "\n",
    "# 영어 쿼리 입력 받기\n",
    "query = input(\"영어 쿼리를 입력하세요.\")\n",
    "preprocessed_query = preprocess(query) # 함수 실행\n",
    "query_token_set = set(preprocessed_query)\n",
    "\n",
    "# 파일에 있는 문장과 유사성 비교\n",
    "score_dict = calc_similarity(query_token_set, file_tokens_pairs) # 함수 실행\n",
    "\n",
    "# 유사성 점수를 정렬\n",
    "sorted_score_list = sorted(score_dict.items(), key = operator.itemgetter(1), reverse=True)\n",
    "\n",
    "# 결과 출력\n",
    "if sorted_score_list[0][0] == 0.0:\n",
    "    print(\"There is no similar sentence.\")\n",
    "else:\n",
    "    print(\"rank\", \"Index\", \"score\", \"sentence\", sep = \"\\t\")\n",
    "    rank = 1\n",
    "    for i, score  in sorted_score_list:\n",
    "        print(rank, i, score, ' '.join(file_tokens_pairs[i]), sep = \"\\t\")\n",
    "        if rank == 10:\n",
    "            break\n",
    "        rank = rank + 1"
   ]
  },
  {
   "cell_type": "code",
   "execution_count": null,
   "id": "c581f6c3",
   "metadata": {},
   "outputs": [],
   "source": []
  }
 ],
 "metadata": {
  "kernelspec": {
   "display_name": "Python 3 (ipykernel)",
   "language": "python",
   "name": "python3"
  },
  "language_info": {
   "codemirror_mode": {
    "name": "ipython",
    "version": 3
   },
   "file_extension": ".py",
   "mimetype": "text/x-python",
   "name": "python",
   "nbconvert_exporter": "python",
   "pygments_lexer": "ipython3",
   "version": "3.9.7"
  }
 },
 "nbformat": 4,
 "nbformat_minor": 5
}

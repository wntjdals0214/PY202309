{
 "cells": [
  {
   "cell_type": "code",
   "execution_count": 5,
   "id": "b6b39d92",
   "metadata": {},
   "outputs": [
    {
     "name": "stdout",
     "output_type": "stream",
     "text": [
      "What do you call a bear with no teeth?\n",
      " A gummy bear!\n"
     ]
    }
   ],
   "source": [
    "print(\"What do you call a bear with no teeth?\\n A gummy bear!\") #joke\n"
   ]
  },
  {
   "cell_type": "code",
   "execution_count": 2,
   "id": "1a3ec151",
   "metadata": {},
   "outputs": [
    {
     "name": "stdout",
     "output_type": "stream",
     "text": [
      "Enter your name:sungmin\n",
      "Hello sungmin\n"
     ]
    }
   ],
   "source": [
    "Name=str(input(\"Enter your name:\")) #input name\n",
    "print(\"Hello\",Name) #display name"
   ]
  },
  {
   "cell_type": "code",
   "execution_count": 3,
   "id": "5d87ab28",
   "metadata": {},
   "outputs": [
    {
     "name": "stdout",
     "output_type": "stream",
     "text": [
      "Input your name:sungmin\n",
      "Input your last name:joo\n",
      "Hello sungmin joo\n"
     ]
    }
   ],
   "source": [
    "Name=str(input(\"Input your name:\")) #input name\n",
    "LastName=str(input(\"Input your last name:\")) #input last name\n",
    "print(\"Hello\",Name,LastName) # display name and last name"
   ]
  },
  {
   "cell_type": "code",
   "execution_count": 6,
   "id": "92cd69fb",
   "metadata": {},
   "outputs": [
    {
     "name": "stdout",
     "output_type": "stream",
     "text": [
      "Input the first number:10\n",
      "Input the second number:30\n",
      "10 + 30 = 40\n"
     ]
    }
   ],
   "source": [
    "a= int(input(\"Input the first number:\")) #input the first number\n",
    "b= int(input(\"Input the second number:\")) #input the second number\n",
    "c=a+b #c is add a and b\n",
    "print(a,\"+\",b,\"=\",c) #display calculation"
   ]
  },
  {
   "cell_type": "code",
   "execution_count": 10,
   "id": "be5a8edf",
   "metadata": {},
   "outputs": [
    {
     "name": "stdout",
     "output_type": "stream",
     "text": [
      "Input the first number:10\n",
      "Input the second number:20\n",
      "Input the third number:30\n",
      "10 + 20 * 30 = 610\n",
      "( 10 + 20 ) * 30 = 900\n"
     ]
    }
   ],
   "source": [
    "a= int(input(\"Input the first number:\")) #input the first number\n",
    "b= int(input(\"Input the second number:\")) #input the second number\n",
    "c= int(input(\"Input the third number:\")) #Input the third number\n",
    "d=a+b*c\n",
    "e=(a+b)*c\n",
    "print(a,\"+\",b,\"*\",c,\"=\",d)\n",
    "print(\"(\",a,\"+\",b,\")\",\"*\",c,\"=\",e)"
   ]
  },
  {
   "cell_type": "code",
   "execution_count": null,
   "id": "9db3517d",
   "metadata": {},
   "outputs": [],
   "source": []
  }
 ],
 "metadata": {
  "kernelspec": {
   "display_name": "Python 3 (ipykernel)",
   "language": "python",
   "name": "python3"
  },
  "language_info": {
   "codemirror_mode": {
    "name": "ipython",
    "version": 3
   },
   "file_extension": ".py",
   "mimetype": "text/x-python",
   "name": "python",
   "nbconvert_exporter": "python",
   "pygments_lexer": "ipython3",
   "version": "3.9.7"
  }
 },
 "nbformat": 4,
 "nbformat_minor": 5
}

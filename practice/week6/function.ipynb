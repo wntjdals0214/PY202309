{
 "cells": [
  {
   "cell_type": "code",
   "execution_count": null,
   "id": "3601b895",
   "metadata": {},
   "outputs": [],
   "source": [
    "import random\n",
    "\n",
    "def get_number():\n",
    "    return random.randrange(1, 46) #랜덥한 수 리턴\n",
    "\n",
    "lotto = [] # 빈 리스트 생성\n",
    "num = 0\n",
    "print(\"** Start Lotto **\")\n",
    "\n",
    "while True:\n",
    "    num = get_number() # 함수 실행\n",
    "    \n",
    "    if lotto.count(num) == 0:\n",
    "        lotto.append(num) #리스트에 랜덤한 수 추가\n",
    "        \n",
    "    if len(lotto) >= 6:\n",
    "        break # 리스트 길이가 6이 되면 중지\n",
    "        \n",
    "print(\"Number: \", end = ' ')\n",
    "lotto.sort() # 리스트 정렬\n",
    "for number in lotto:\n",
    "    print(number, end=' ') # 리스트 출력\n",
    "    "
   ]
  }
 ],
 "metadata": {
  "kernelspec": {
   "display_name": "Python 3 (ipykernel)",
   "language": "python",
   "name": "python3"
  },
  "language_info": {
   "codemirror_mode": {
    "name": "ipython",
    "version": 3
   },
   "file_extension": ".py",
   "mimetype": "text/x-python",
   "name": "python",
   "nbconvert_exporter": "python",
   "pygments_lexer": "ipython3",
   "version": "3.9.7"
  }
 },
 "nbformat": 4,
 "nbformat_minor": 5
}

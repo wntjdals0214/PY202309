{
 "cells": [
  {
   "cell_type": "code",
   "execution_count": 4,
   "id": "340e788d",
   "metadata": {},
   "outputs": [
    {
     "name": "stdout",
     "output_type": "stream",
     "text": [
      "1. current list =  [30, 10, 20, 50, 40]\n",
      "2. append(60) =  [30, 10, 20, 50, 40, 60]\n",
      "3. item after pop() =  60\n",
      "4. list after pop() =  [30, 10, 20, 50, 40]\n",
      "5. after sort() =  [10, 20, 30, 40, 50]\n",
      "6. after reverse() =  [50, 40, 30, 20, 10]\n",
      "7. index for 20 =  3\n",
      "8. after insert(2, 222) =  [50, 40, 222, 30, 20, 10]\n",
      "9. after remove(2, 222) =  [50, 40, 30, 20, 10]\n",
      "10. after extend([100, 200, 100]) =  [50, 40, 30, 20, 10, 100, 200, 100]\n",
      "11. the number of 100 =  2\n"
     ]
    }
   ],
   "source": [
    "#리스트 생성\n",
    "sample_list = [30, 10, 20, 50, 40]\n",
    "print(\"1. current list = \", sample_list)\n",
    "\n",
    "#리스트에 \"60\" 추가\n",
    "sample_list.append(60)\n",
    "print(\"2. append(60) = \", sample_list)\n",
    "\n",
    "#리스트 끝에 있는 \"60\" 출력, 삭제\n",
    "print(\"3. item after pop() = \", sample_list.pop())\n",
    "print(\"4. list after pop() = \", sample_list)\n",
    "\n",
    "#리스트 정렬\n",
    "sample_list.sort()\n",
    "print(\"5. after sort() = \", sample_list)\n",
    "\n",
    "#리스트 내림차수 정렬\n",
    "sample_list.reverse()\n",
    "print(\"6. after reverse() = \", sample_list)\n",
    "\n",
    "#리스트의 \"20\" 위치 찾기\n",
    "print(\"7. index for 20 = \", sample_list.index(20))\n",
    "\n",
    "#리스트의 2,3 사이에 222 넣기\n",
    "sample_list.insert(2, 222)\n",
    "print(\"8. after insert(2, 222) = \", sample_list)\n",
    "\n",
    "#리스트에서 222 삭제\n",
    "sample_list.remove(222)\n",
    "print(\"9. after remove(2, 222) = \", sample_list)\n",
    "\n",
    "#새 리스트 생성\n",
    "new_list = [100, 200, 100]\n",
    "#리스트 뒤에 새 리스트 추가 \n",
    "sample_list.extend(new_list)\n",
    "print(\"10. after extend([100, 200, 100]) = \", sample_list)\n",
    "\n",
    "#리스트에서 100의 개수 새기\n",
    "print(\"11. the number of 100 = \", sample_list.count(100))"
   ]
  },
  {
   "cell_type": "code",
   "execution_count": null,
   "id": "e942de5d",
   "metadata": {},
   "outputs": [],
   "source": [
    "import turtle\n",
    "t=turtle.Turtle()\n",
    "# 반지름 리스트 생성\n",
    "radius_list=[100, 200, 50]\n",
    "move=20\n",
    "\n",
    "t.shape(\"turtle\")\n",
    "# 리스트에 있는 수를 반지름으로 가지는 원 그리기\n",
    "for i in range(0, len(radius_list)):\n",
    "    radius=radius_list[i]\n",
    "    t.circle(radius)\n",
    "    t.fd(move)\n",
    "    \n",
    "turtle.done()\n",
    "try:\n",
    "    turtle.bye()\n",
    "except:\n",
    "    print(\"turtle bye!\")"
   ]
  }
 ],
 "metadata": {
  "kernelspec": {
   "display_name": "Python 3 (ipykernel)",
   "language": "python",
   "name": "python3"
  },
  "language_info": {
   "codemirror_mode": {
    "name": "ipython",
    "version": 3
   },
   "file_extension": ".py",
   "mimetype": "text/x-python",
   "name": "python",
   "nbconvert_exporter": "python",
   "pygments_lexer": "ipython3",
   "version": "3.9.7"
  }
 },
 "nbformat": 4,
 "nbformat_minor": 5
}
